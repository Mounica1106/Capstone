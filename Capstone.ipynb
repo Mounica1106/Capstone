{
 "cells": [
  {
   "cell_type": "code",
   "execution_count": 7,
   "metadata": {},
   "outputs": [],
   "source": [
    "from pyspark.sql import SparkSession\n",
    "Spark = (SparkSession.builder.appName(\"capstone\")\\\n",
    "        .config(\"hive.metastore.uris\",\"thrift://ip-10-1-2-24.ap-south-1.compute.internal:9083\")\\\n",
    "        .enableHiveSupport().getOrCreate())"
   ]
  },
  {
   "cell_type": "code",
   "execution_count": 2,
   "metadata": {},
   "outputs": [
    {
     "data": {
      "text/html": [
       "\n",
       "            <div>\n",
       "                <p><b>SparkSession - hive</b></p>\n",
       "                \n",
       "        <div>\n",
       "            <p><b>SparkContext</b></p>\n",
       "\n",
       "            <p><a href=\"http://ip-10-1-1-204.ap-south-1.compute.internal:43011\">Spark UI</a></p>\n",
       "\n",
       "            <dl>\n",
       "              <dt>Version</dt>\n",
       "                <dd><code>v2.4.0</code></dd>\n",
       "              <dt>Master</dt>\n",
       "                <dd><code>local[*]</code></dd>\n",
       "              <dt>AppName</dt>\n",
       "                <dd><code>capstone</code></dd>\n",
       "            </dl>\n",
       "        </div>\n",
       "        \n",
       "            </div>\n",
       "        "
      ],
      "text/plain": [
       "<pyspark.sql.session.SparkSession at 0x7f35243a42d0>"
      ]
     },
     "execution_count": 2,
     "metadata": {},
     "output_type": "execute_result"
    }
   ],
   "source": [
    "Spark"
   ]
  },
  {
   "cell_type": "code",
   "execution_count": 3,
   "metadata": {},
   "outputs": [
    {
     "name": "stdout",
     "output_type": "stream",
     "text": [
      "+------+------------+----------+----------+----------+---+----------+--------------+------------------------+--------+----------+\n",
      "|emp_no|emp_title_id|birth_date|first_name| last_name|sex| hire_date|no_of_projects|last_performance_ratings|left_org| last_date|\n",
      "+------+------------+----------+----------+----------+---+----------+--------------+------------------------+--------+----------+\n",
      "|473302|       s0001| 7/25/1953|  Hideyuki|  Zallocco|  M| 4/28/1990|             2|                       A|       0|         \r",
      "|\n",
      "|475053|       e0002|11/18/1954|     Byong| Delgrande|  F|  9/7/1991|             1|                       C|       0|         \r",
      "|\n",
      "| 57444|       e0002| 1/30/1958|     Berry|      Babb|  F| 3/21/1992|             9|                       A|       0|         \r",
      "|\n",
      "|421786|       s0001| 9/28/1957|     Xiong|  Verhoeff|  M|11/26/1987|             2|                       C|       0|         \r",
      "|\n",
      "|282238|       e0003|10/28/1952|Abdelkader|   Baumann|  F| 1/18/1991|             6|                       B|       0|         \r",
      "|\n",
      "|263976|       e0003|10/30/1959|      Eran|  Cusworth|  M|11/14/1986|             8|                       B|       1|8/21/1993\r",
      "|\n",
      "|273487|       s0001| 4/14/1957| Christoph|   Parfitt|  M| 6/28/1991|            10|                       A|       0|         \r",
      "|\n",
      "|461591|       s0002|11/17/1964|    Xudong|  Samarati|  M|11/13/1985|             2|                       A|       1|8/21/1994\r",
      "|\n",
      "|477657|       e0002|12/18/1962|    Lihong| Magliocco|  M|10/23/1993|             5|                       A|       0|         \r",
      "|\n",
      "|219881|       s0002| 4/24/1956| Kwangyoen|     Speek|  F| 2/14/1993|             6|                       B|       0|         \r",
      "|\n",
      "| 29920|       e0002|12/31/1961|   Shuichi|     Tyugu|  F| 1/17/1995|             1|                     PIP|       0|         \r",
      "|\n",
      "|208153|       e0003|10/25/1961|   Abdulah|      Lunn|  M|  4/8/1989|             8|                       C|       1| 8/2/2000\r",
      "|\n",
      "| 13616|       e0003| 8/30/1961|     Perry|     Lorho|  F|  8/3/1991|             7|                       C|       0|         \r",
      "|\n",
      "|246449|       s0001| 3/23/1958|     Subbu|Bultermann|  F| 3/25/1988|             9|                       C|       0|         \r",
      "|\n",
      "| 21529|       e0002| 5/19/1959|     Bojan|  Zallocco|  M|10/14/1986|             7|                       C|       0|         \r",
      "|\n",
      "| 17934|       e0004| 7/12/1963|  Bilhanan|  Wuwongse|  M| 10/6/1993|             7|                       C|       0|         \r",
      "|\n",
      "| 48085|       s0001| 1/19/1964|Venkatesan|      Gilg|  M| 6/28/1993|             9|                       B|       0|         \r",
      "|\n",
      "|239838|       e0002|12/11/1957|   Naftali|     Dulli|  M|  6/6/1993|             3|                       A|       0|         \r",
      "|\n",
      "|240129|       e0004| 8/11/1952|     Roddy|    Karnin|  M| 5/29/1985|            10|                       C|       0|         \r",
      "|\n",
      "|205246|       s0002|11/25/1958|     Nevio|    Demizu|  F| 5/18/1986|             8|                       B|       0|         \r",
      "|\n",
      "+------+------------+----------+----------+----------+---+----------+--------------+------------------------+--------+----------+\n",
      "only showing top 20 rows\n",
      "\n"
     ]
    }
   ],
   "source": [
    "Spark.sql(\"select * from mounica.employeesorg\").show()"
   ]
  },
  {
   "cell_type": "code",
   "execution_count": 4,
   "metadata": {},
   "outputs": [
    {
     "name": "stdout",
     "output_type": "stream",
     "text": [
      "+------+------------+----------+----------+----------+---+----------+--------------+------------------------+--------+----+\n",
      "|emp_no|emp_title_id|birth_date|first_name| last_name|sex| hire_date|no_of_projects|last_performance_ratings|left_org|_c10|\n",
      "+------+------------+----------+----------+----------+---+----------+--------------+------------------------+--------+----+\n",
      "|473302|       s0001|1953-07-25|  Hideyuki|  Zallocco|  M|1990-04-28|             2|                       A|       0|null|\n",
      "|475053|       e0002|1954-11-18|     Byong| Delgrande|  F|1991-09-07|             1|                       C|       0|null|\n",
      "| 57444|       e0002|1958-01-30|     Berry|      Babb|  F|1992-03-21|             9|                       A|       0|null|\n",
      "|421786|       s0001|1957-09-28|     Xiong|  Verhoeff|  M|1987-11-26|             2|                       C|       0|null|\n",
      "|282238|       e0003|1952-10-28|Abdelkader|   Baumann|  F|1991-01-18|             6|                       B|       0|null|\n",
      "|263976|       e0003|1959-10-30|      Eran|  Cusworth|  M|1986-11-14|             8|                       B|       1|null|\n",
      "|273487|       s0001|1957-04-14| Christoph|   Parfitt|  M|1991-06-28|            10|                       A|       0|null|\n",
      "|461591|       s0002|1964-11-17|    Xudong|  Samarati|  M|1985-11-13|             2|                       A|       1|null|\n",
      "|477657|       e0002|1962-12-18|    Lihong| Magliocco|  M|1993-10-23|             5|                       A|       0|null|\n",
      "|219881|       s0002|1956-04-24| Kwangyoen|     Speek|  F|1993-02-14|             6|                       B|       0|null|\n",
      "| 29920|       e0002|1961-12-31|   Shuichi|     Tyugu|  F|1995-01-17|             1|                     PIP|       0|null|\n",
      "|208153|       e0003|1961-10-25|   Abdulah|      Lunn|  M|1989-04-08|             8|                       C|       1|null|\n",
      "| 13616|       e0003|1961-08-30|     Perry|     Lorho|  F|1991-08-03|             7|                       C|       0|null|\n",
      "|246449|       s0001|1958-03-23|     Subbu|Bultermann|  F|1988-03-25|             9|                       C|       0|null|\n",
      "| 21529|       e0002|1959-05-19|     Bojan|  Zallocco|  M|1986-10-14|             7|                       C|       0|null|\n",
      "| 17934|       e0004|1963-07-12|  Bilhanan|  Wuwongse|  M|1993-10-06|             7|                       C|       0|null|\n",
      "| 48085|       s0001|1964-01-19|Venkatesan|      Gilg|  M|1993-06-28|             9|                       B|       0|null|\n",
      "|239838|       e0002|1957-12-11|   Naftali|     Dulli|  M|1993-06-06|             3|                       A|       0|null|\n",
      "|240129|       e0004|1952-08-11|     Roddy|    Karnin|  M|1985-05-29|            10|                       C|       0|null|\n",
      "|205246|       s0002|1958-11-25|     Nevio|    Demizu|  F|1986-05-18|             8|                       B|       0|null|\n",
      "+------+------------+----------+----------+----------+---+----------+--------------+------------------------+--------+----+\n",
      "only showing top 20 rows\n",
      "\n"
     ]
    }
   ],
   "source": [
    "Spark.sql(\"select * from mounica.Employees_final\").show()"
   ]
  },
  {
   "cell_type": "code",
   "execution_count": 7,
   "metadata": {},
   "outputs": [
    {
     "name": "stdout",
     "output_type": "stream",
     "text": [
      "+-------+------------------+\n",
      "|dept_no|         dept_name|\n",
      "+-------+------------------+\n",
      "|   d001|         Marketing|\n",
      "|   d002|           Finance|\n",
      "|   d003|     HumanResource|\n",
      "|   d004|        Production|\n",
      "|   d005|       development|\n",
      "|   d006|Quality Management|\n",
      "|   d007|             Sales|\n",
      "|   d008|          Research|\n",
      "|   d009|  Customer Service|\n",
      "+-------+------------------+\n",
      "\n"
     ]
    }
   ],
   "source": [
    "Spark.sql(\"select * from mounica.Departments\").show()"
   ]
  },
  {
   "cell_type": "code",
   "execution_count": 8,
   "metadata": {},
   "outputs": [
    {
     "name": "stdout",
     "output_type": "stream",
     "text": [
      "+------+-------+\n",
      "|emp_no|dept_no|\n",
      "+------+-------+\n",
      "| 10001|   d005|\n",
      "| 10002|   d007|\n",
      "| 10003|   d004|\n",
      "| 10004|   d004|\n",
      "| 10005|   d003|\n",
      "| 10006|   d005|\n",
      "| 10007|   d008|\n",
      "| 10008|   d005|\n",
      "| 10009|   d006|\n",
      "| 10010|   d004|\n",
      "| 10010|   d006|\n",
      "| 10011|   d009|\n",
      "| 10012|   d005|\n",
      "| 10013|   d003|\n",
      "| 10014|   d005|\n",
      "| 10015|   d008|\n",
      "| 10016|   d007|\n",
      "| 10017|   d001|\n",
      "| 10018|   d004|\n",
      "| 10018|   d005|\n",
      "+------+-------+\n",
      "only showing top 20 rows\n",
      "\n"
     ]
    }
   ],
   "source": [
    "Spark.sql(\"select * from mounica.Department_Employees\").show()"
   ]
  },
  {
   "cell_type": "code",
   "execution_count": 9,
   "metadata": {},
   "outputs": [
    {
     "name": "stdout",
     "output_type": "stream",
     "text": [
      "+-------+------+\n",
      "|dept_no|emp_no|\n",
      "+-------+------+\n",
      "|   d001|110022|\n",
      "|   d001|110039|\n",
      "|   d002|110085|\n",
      "|   d002|110114|\n",
      "|   d003|110183|\n",
      "|   d003|110228|\n",
      "|   d004|110303|\n",
      "|   d004|110344|\n",
      "|   d004|110386|\n",
      "|   d004|110420|\n",
      "|   d005|110511|\n",
      "|   d005|110567|\n",
      "|   d006|110725|\n",
      "|   d006|110765|\n",
      "|   d006|110800|\n",
      "|   d006|110854|\n",
      "|   d007|111035|\n",
      "|   d007|111133|\n",
      "|   d008|111400|\n",
      "|   d008|111534|\n",
      "+-------+------+\n",
      "only showing top 20 rows\n",
      "\n"
     ]
    }
   ],
   "source": [
    "Spark.sql(\"select * from mounica.Department_Managers\").show()"
   ]
  },
  {
   "cell_type": "code",
   "execution_count": 10,
   "metadata": {},
   "outputs": [
    {
     "name": "stdout",
     "output_type": "stream",
     "text": [
      "+--------+------------------+\n",
      "|title_id|             title|\n",
      "+--------+------------------+\n",
      "|   e0001|Assistant Engineer|\n",
      "|   e0002|          Engineer|\n",
      "|   e0003|   Senior Engineer|\n",
      "|   e0004|  Technique Leader|\n",
      "|   m0001|Managerï»¿title_id|\n",
      "|   s0001|             Staff|\n",
      "|   s0002|      Senior Staff|\n",
      "+--------+------------------+\n",
      "\n"
     ]
    }
   ],
   "source": [
    "Spark.sql(\"select * from mounica.titles\").show()"
   ]
  },
  {
   "cell_type": "code",
   "execution_count": 11,
   "metadata": {},
   "outputs": [
    {
     "name": "stdout",
     "output_type": "stream",
     "text": [
      "+------+------+\n",
      "|emp_no|salary|\n",
      "+------+------+\n",
      "| 10001| 60117|\n",
      "| 10002| 65828|\n",
      "| 10003| 40006|\n",
      "| 10004| 40054|\n",
      "| 10005| 78228|\n",
      "| 10006| 40000|\n",
      "| 10007| 56724|\n",
      "| 10008| 46671|\n",
      "| 10009| 60929|\n",
      "| 10010| 72488|\n",
      "| 10011| 42365|\n",
      "| 10012| 40000|\n",
      "| 10013| 40000|\n",
      "| 10014| 46168|\n",
      "| 10015| 40000|\n",
      "| 10016| 70889|\n",
      "| 10017| 71380|\n",
      "| 10018| 55881|\n",
      "| 10019| 44276|\n",
      "| 10020| 40000|\n",
      "+------+------+\n",
      "only showing top 20 rows\n",
      "\n"
     ]
    }
   ],
   "source": [
    "Spark.sql(\"select * from mounica.Salaries\").show()"
   ]
  },
  {
   "cell_type": "markdown",
   "metadata": {},
   "source": [
    "# 1. A list showing employee number, last name, first name, sex, and salary for each employee1."
   ]
  },
  {
   "cell_type": "code",
   "execution_count": 12,
   "metadata": {},
   "outputs": [
    {
     "name": "stdout",
     "output_type": "stream",
     "text": [
      "+------+-----------+----------+---+------+\n",
      "|emp_no|  last_name|first_name|sex|salary|\n",
      "+------+-----------+----------+---+------+\n",
      "| 10001|    Facello|    Georgi|  M| 60117|\n",
      "| 10002|     Simmel|   Bezalel|  F| 65828|\n",
      "| 10003|    Bamford|     Parto|  M| 40006|\n",
      "| 10004|    Koblick| Chirstian|  M| 40054|\n",
      "| 10005|   Maliniak|   Kyoichi|  M| 78228|\n",
      "| 10006|    Preusig|    Anneke|  F| 40000|\n",
      "| 10007|  Zielinski|   Tzvetan|  F| 56724|\n",
      "| 10008|   Kalloufi|    Saniya|  M| 46671|\n",
      "| 10009|       Peac|    Sumant|  F| 60929|\n",
      "| 10010|   Piveteau| Duangkaew|  F| 72488|\n",
      "| 10011|      Sluis|      Mary|  F| 42365|\n",
      "| 10012|  Bridgland|  Patricio|  M| 40000|\n",
      "| 10013|     Terkki| Eberhardt|  M| 40000|\n",
      "| 10014|      Genin|     Berni|  M| 46168|\n",
      "| 10015|  Nooteboom|  Guoxiang|  M| 40000|\n",
      "| 10016|Cappelletti|  Kazuhito|  M| 70889|\n",
      "| 10017|  Bouloucos| Cristinel|  F| 71380|\n",
      "| 10018|       Peha|  Kazuhide|  F| 55881|\n",
      "| 10019|    Haddadi|   Lillian|  M| 44276|\n",
      "| 10020|    Warwick|    Mayuko|  M| 40000|\n",
      "+------+-----------+----------+---+------+\n",
      "only showing top 20 rows\n",
      "\n"
     ]
    }
   ],
   "source": [
    "Spark.sql(\"select s.emp_no, e.last_name, e.first_name, e.sex, s.salary \\\n",
    "from mounica.employeesorg as e \\\n",
    "inner join mounica.Salaries as s \\\n",
    "on s.emp_no = e.emp_no \\\n",
    "order by s.emp_no\").show()"
   ]
  },
  {
   "cell_type": "markdown",
   "metadata": {},
   "source": [
    "# 1. A list showing first name, last name, and hire date for employees who were hired in 1986"
   ]
  },
  {
   "cell_type": "code",
   "execution_count": 13,
   "metadata": {},
   "outputs": [
    {
     "name": "stdout",
     "output_type": "stream",
     "text": [
      "+------+-------------+--------------+----------+\n",
      "|emp_no|    last_name|    first_name| hire_date|\n",
      "+------+-------------+--------------+----------+\n",
      "|263976|     Cusworth|          Eran|11/14/1986|\n",
      "| 21529|     Zallocco|         Bojan|10/14/1986|\n",
      "|419277|        Uhrig|        Freyja|12/20/1986|\n",
      "|109820|       Ghelli|     Juichirou|12/13/1986|\n",
      "|217945|        Georg|        Shmuel|11/30/1986|\n",
      "|293092|        Kroha|        Baocai|10/27/1986|\n",
      "| 11012|    Speckmann|       Taegyun|12/28/1986|\n",
      "|424666|        Lambe|        Ingmar|10/21/1986|\n",
      "| 63638|    Chepyzhov|          Adib|11/10/1986|\n",
      "|450845|    Kavvadias|       Florina|12/14/1986|\n",
      "|468684|    Middleton|        Georgi|11/24/1986|\n",
      "|452448|       Kaiser|Chandrasekaran|12/30/1986|\n",
      "|477276|       Kuszyk|        Susumu|12/12/1986|\n",
      "|243221|     Schauser|           Gio|10/23/1986|\n",
      "|460398|     Sinitsyn|        Junsik|11/21/1986|\n",
      "|269252|Schwartzbauer|       Behnaam|10/17/1986|\n",
      "|411230|      Giaccio|         Hauke|12/12/1986|\n",
      "|240893|     Wuwongse|        Mayumi|11/20/1986|\n",
      "| 64494|  Riesenhuber|      Dipankar|11/25/1986|\n",
      "|265417|        Sidje|         Marin|10/24/1986|\n",
      "+------+-------------+--------------+----------+\n",
      "only showing top 20 rows\n",
      "\n"
     ]
    }
   ],
   "source": [
    "Spark.sql(\"select emp_no, last_name, first_name, hire_date  \\\n",
    "from mounica.employeesorg \\\n",
    "where cast(substr( hire_date,7,4) as int) = '1986' \").show()"
   ]
  },
  {
   "cell_type": "markdown",
   "metadata": {},
   "source": [
    "# 2. A list showing the manager of each department with the following information: department number, department name,the manager's employee number, last name, first name."
   ]
  },
  {
   "cell_type": "code",
   "execution_count": 14,
   "metadata": {},
   "outputs": [
    {
     "name": "stdout",
     "output_type": "stream",
     "text": [
      "+-------+------------------+------+------------+-----------+\n",
      "|dept_no|         dept_name|emp_no|   last_name| first_name|\n",
      "+-------+------------------+------+------------+-----------+\n",
      "|   d001|         Marketing|110039|    Minakawa|   Vishwani|\n",
      "|   d001|         Marketing|110022|  Markovitch|  Margareta|\n",
      "|   d002|           Finance|110114|  Legleitner|      Isamu|\n",
      "|   d002|           Finance|110085|       Alpin|       Ebru|\n",
      "|   d003|     HumanResource|110183|Ossenbruggen|    Shirish|\n",
      "|   d003|     HumanResource|110228|     Sigstam|    Karsten|\n",
      "|   d004|        Production|110344|       Cools|     Rosine|\n",
      "|   d004|        Production|110303|     Wegerle|  Krassimir|\n",
      "|   d004|        Production|110420|    Ghazalie|      Oscar|\n",
      "|   d004|        Production|110386|      Kieras|       Shem|\n",
      "|   d005|       development|110567|    DasSarma|       Leon|\n",
      "|   d005|       development|110511|    Hagimont|   DeForest|\n",
      "|   d006|Quality Management|110800|     Quadeer|     Sanjoy|\n",
      "|   d006|Quality Management|110725|     Onuegbe|  Peternela|\n",
      "|   d006|Quality Management|110765|     Hofmeyr|     Rutger|\n",
      "|   d006|Quality Management|110854|       Pesch|       Dung|\n",
      "|   d007|             Sales|111133|       Zhang|      Hauke|\n",
      "|   d007|             Sales|111035|   Kaelbling|Przemyslawa|\n",
      "|   d008|          Research|111400|     Staelin|       Arie|\n",
      "|   d008|          Research|111534|      Kambil|     Hilary|\n",
      "+-------+------------------+------+------------+-----------+\n",
      "only showing top 20 rows\n",
      "\n"
     ]
    }
   ],
   "source": [
    "Spark.sql(\"select distinct  department_Managers.dept_no, Departments.dept_name, \\\n",
    "Department_Managers.emp_no, employeesorg.last_name, employeesorg.first_name \\\n",
    "from mounica.Department_Managers \\\n",
    "inner join mounica.Departments \\\n",
    "on Department_Managers.dept_no= Departments.dept_no \\\n",
    "inner join mounica.employeesorg \\\n",
    "on Department_Managers.emp_no = employeesorg.emp_no \\\n",
    "order by Department_Managers.dept_no\").show()"
   ]
  },
  {
   "cell_type": "markdown",
   "metadata": {},
   "source": [
    "# 3. A list showing the department of each employee with the following information: employee number, last name, first name, and department name"
   ]
  },
  {
   "cell_type": "code",
   "execution_count": 15,
   "metadata": {},
   "outputs": [
    {
     "name": "stdout",
     "output_type": "stream",
     "text": [
      "+------+-----------+----------+-------+------------------+\n",
      "|emp_no|  last_name|first_name|dept_no|         dept_name|\n",
      "+------+-----------+----------+-------+------------------+\n",
      "| 10001|    Facello|    Georgi|   d005|       development|\n",
      "| 10002|     Simmel|   Bezalel|   d007|             Sales|\n",
      "| 10003|    Bamford|     Parto|   d004|        Production|\n",
      "| 10004|    Koblick| Chirstian|   d004|        Production|\n",
      "| 10005|   Maliniak|   Kyoichi|   d003|     HumanResource|\n",
      "| 10006|    Preusig|    Anneke|   d005|       development|\n",
      "| 10007|  Zielinski|   Tzvetan|   d008|          Research|\n",
      "| 10008|   Kalloufi|    Saniya|   d005|       development|\n",
      "| 10009|       Peac|    Sumant|   d006|Quality Management|\n",
      "| 10010|   Piveteau| Duangkaew|   d006|Quality Management|\n",
      "| 10010|   Piveteau| Duangkaew|   d004|        Production|\n",
      "| 10011|      Sluis|      Mary|   d009|  Customer Service|\n",
      "| 10012|  Bridgland|  Patricio|   d005|       development|\n",
      "| 10013|     Terkki| Eberhardt|   d003|     HumanResource|\n",
      "| 10014|      Genin|     Berni|   d005|       development|\n",
      "| 10015|  Nooteboom|  Guoxiang|   d008|          Research|\n",
      "| 10016|Cappelletti|  Kazuhito|   d007|             Sales|\n",
      "| 10017|  Bouloucos| Cristinel|   d001|         Marketing|\n",
      "| 10018|       Peha|  Kazuhide|   d004|        Production|\n",
      "| 10018|       Peha|  Kazuhide|   d005|       development|\n",
      "+------+-----------+----------+-------+------------------+\n",
      "only showing top 20 rows\n",
      "\n"
     ]
    }
   ],
   "source": [
    "Spark.sql(\"select distinct  E.emp_no, E.last_name, E.first_name, D.dept_no, Departments.dept_name \\\n",
    "from mounica.employeesorg as E \\\n",
    "left join mounica.department_employees as D \\\n",
    "on E.emp_no = D.emp_no \\\n",
    "inner join mounica.Departments \\\n",
    "on D.dept_no = Departments.dept_no \\\n",
    "order by E.emp_no\").show()"
   ]
  },
  {
   "cell_type": "markdown",
   "metadata": {},
   "source": [
    "# 4. A list showing first name, last name, and sex for employees whose first name is \"Hercules\" and last names begin with \"B.“"
   ]
  },
  {
   "cell_type": "code",
   "execution_count": 16,
   "metadata": {},
   "outputs": [
    {
     "name": "stdout",
     "output_type": "stream",
     "text": [
      "+-------------+----------+\n",
      "|    last_name|first_name|\n",
      "+-------------+----------+\n",
      "|         Baak|  Hercules|\n",
      "|         Baer|  Hercules|\n",
      "|         Bahr|  Hercules|\n",
      "|         Bail|  Hercules|\n",
      "|         Bain|  Hercules|\n",
      "|   Baranowski|  Hercules|\n",
      "|     Barreiro|  Hercules|\n",
      "|      Basagni|  Hercules|\n",
      "|     Benantar|  Hercules|\n",
      "|   Benzmuller|  Hercules|\n",
      "|Bernardinello|  Hercules|\n",
      "|    Bernatsky|  Hercules|\n",
      "|      Berstel|  Hercules|\n",
      "|        Biran|  Hercules|\n",
      "|        Birge|  Hercules|\n",
      "|        Biron|  Hercules|\n",
      "|      Bisiani|  Hercules|\n",
      "|       Bodoff|  Hercules|\n",
      "|      Brendel|  Hercules|\n",
      "|      Buchter|  Hercules|\n",
      "+-------------+----------+\n",
      "\n"
     ]
    }
   ],
   "source": [
    "Spark.sql(\"select last_name, first_name \\\n",
    "from mounica.employeesorg \\\n",
    "where (first_name = 'Hercules') and (lower(last_name) like 'b%') \\\n",
    "order by last_name\").show()"
   ]
  },
  {
   "cell_type": "markdown",
   "metadata": {},
   "source": [
    "#  5. A list showing all employees in the Sales department, including their employee number, last name, first name, and department name.\n"
   ]
  },
  {
   "cell_type": "code",
   "execution_count": 17,
   "metadata": {},
   "outputs": [
    {
     "name": "stdout",
     "output_type": "stream",
     "text": [
      "+------+-------------+----------+---------+\n",
      "|emp_no|    last_name|first_name|dept_name|\n",
      "+------+-------------+----------+---------+\n",
      "|246449|   Bultermann|     Subbu|    Sales|\n",
      "|205246|       Demizu|     Nevio|    Sales|\n",
      "|476443|       Asmuth|      Ziya|    Sales|\n",
      "|424270|    Yoshizawa|    Kellyn|    Sales|\n",
      "|280408|         Perl|   Elliott|    Sales|\n",
      "|289261|     Nollmann|       Gad|    Sales|\n",
      "|444985|     Verspoor|      Giap|    Sales|\n",
      "|477628|Beutelspacher|      Duro|    Sales|\n",
      "| 42625|        Swick|  Harngdar|    Sales|\n",
      "| 85093|       Covnot| Nectarios|    Sales|\n",
      "|205366|    Shimshoni|  Kazuhira|    Sales|\n",
      "| 37601|    Naumovich|   Gilbert|    Sales|\n",
      "|437985|        Munke|    Reuven|    Sales|\n",
      "| 28823|     Skafidas|     Tonny|    Sales|\n",
      "|107258|       Zaumen|    Parviz|    Sales|\n",
      "| 11980|         Pews| Yechezkel|    Sales|\n",
      "|457800|      Domenig| Stabislas|    Sales|\n",
      "|414537|     Businaro|   Chikara|    Sales|\n",
      "|414885|       Vecchi|   Candido|    Sales|\n",
      "|217945|        Georg|    Shmuel|    Sales|\n",
      "+------+-------------+----------+---------+\n",
      "only showing top 20 rows\n",
      "\n"
     ]
    }
   ],
   "source": [
    "Spark.sql(\"select eo.emp_no, eo.last_name, eo.first_name, Departments.dept_name \\\n",
    "from mounica.employeesorg as eo \\\n",
    "inner join mounica.department_employees as D \\\n",
    "on D.emp_no = eo.emp_no \\\n",
    "inner join mounica.departments on D.dept_no= departments.dept_no \\\n",
    "where lower(departments.dept_name) = 'sales'\").show()\n"
   ]
  },
  {
   "cell_type": "markdown",
   "metadata": {},
   "source": [
    "# 6. A list showing all employees in the Sales and Development departments, including their employee number, last name, first name, and department name.\n"
   ]
  },
  {
   "cell_type": "code",
   "execution_count": 18,
   "metadata": {},
   "outputs": [
    {
     "name": "stdout",
     "output_type": "stream",
     "text": [
      "+------+----------+----------+-----------+\n",
      "|emp_no| last_name|first_name|  dept_name|\n",
      "+------+----------+----------+-----------+\n",
      "|208153|      Lunn|   Abdulah|development|\n",
      "| 13616|     Lorho|     Perry|development|\n",
      "|246449|Bultermann|     Subbu|      Sales|\n",
      "| 21529|  Zallocco|     Bojan|development|\n",
      "| 17934|  Wuwongse|  Bilhanan|development|\n",
      "|205246|    Demizu|     Nevio|      Sales|\n",
      "|476443|    Asmuth|      Ziya|      Sales|\n",
      "|424270| Yoshizawa|    Kellyn|      Sales|\n",
      "| 71530|  McAlpine|Venkatesan|development|\n",
      "|280408|      Perl|   Elliott|      Sales|\n",
      "|104639|   Escriba|    Theron|development|\n",
      "|214555|     Copas|   Nechama|development|\n",
      "| 35916|    Talmon|    Wonhee|development|\n",
      "| 61583|    Vecchi|      Ziva|development|\n",
      "|422587|     Speek|     Mohit|development|\n",
      "| 48885| Antonisse|     Phuoc|development|\n",
      "|244492|    Pettit|   Shaunak|development|\n",
      "|289261|  Nollmann|       Gad|      Sales|\n",
      "| 26941|  Masamoto|    Shigeu|development|\n",
      "|444985|  Verspoor|      Giap|      Sales|\n",
      "+------+----------+----------+-----------+\n",
      "only showing top 20 rows\n",
      "\n"
     ]
    }
   ],
   "source": [
    "Spark.sql(\"select eo.emp_no, eo.last_name, eo.first_name, departments.dept_name \\\n",
    "from mounica.employeesorg as eo \\\n",
    "inner join mounica.department_employees \\\n",
    "on department_employees.emp_no = eo.emp_no \\\n",
    "inner join mounica.departments on department_employees.dept_no= departments.dept_no \\\n",
    "where (lower(departments.dept_name) = 'sales') or (lower(departments.dept_name) = 'development')\").show()\n"
   ]
  },
  {
   "cell_type": "markdown",
   "metadata": {},
   "source": [
    "# 7. A list showing the frequency count of employee last names, in descending order. ( i.e., how many employees share each last name).\n"
   ]
  },
  {
   "cell_type": "code",
   "execution_count": 19,
   "metadata": {},
   "outputs": [
    {
     "name": "stdout",
     "output_type": "stream",
     "text": [
      "+-----------+---------+\n",
      "|  last_name|Frequency|\n",
      "+-----------+---------+\n",
      "|       Baba|      226|\n",
      "|     Gelosh|      223|\n",
      "|      Coorg|      223|\n",
      "|    Sudbeck|      222|\n",
      "|     Farris|      222|\n",
      "|     Adachi|      221|\n",
      "|     Osgood|      220|\n",
      "|     Neiman|      218|\n",
      "|    Mandell|      218|\n",
      "|     Masada|      218|\n",
      "|    Wendorf|      217|\n",
      "|Boudaillier|      217|\n",
      "|   Cummings|      216|\n",
      "|    Solares|      216|\n",
      "|     Mahnke|      216|\n",
      "|     Pettis|      216|\n",
      "|     Emmart|      215|\n",
      "|   Birjandi|      215|\n",
      "|   Collette|      215|\n",
      "|    Kulisch|      215|\n",
      "+-----------+---------+\n",
      "only showing top 20 rows\n",
      "\n"
     ]
    }
   ],
   "source": [
    "Spark.sql(\"select last_name,count(last_name) as Frequency \\\n",
    "from mounica.employeesorg \\\n",
    "group by last_name \\\n",
    "order by Frequency desc\").show()\n"
   ]
  },
  {
   "cell_type": "markdown",
   "metadata": {},
   "source": [
    "# 8.  Histogram to show the salary distribution among the employees\n"
   ]
  },
  {
   "cell_type": "code",
   "execution_count": 20,
   "metadata": {},
   "outputs": [
    {
     "name": "stdout",
     "output_type": "stream",
     "text": [
      "+---------+------------+\n",
      "|     bins|salary_range|\n",
      "+---------+------------+\n",
      "|  40k-50k|      158465|\n",
      "|  50k-60k|       57915|\n",
      "|  60k-70k|       41413|\n",
      "|  70k-80k|       24814|\n",
      "|  80k-90k|       11845|\n",
      "| 90k-100k|        4284|\n",
      "|100k-110k|        1069|\n",
      "|110k-120k|         195|\n",
      "|120k-130k|          24|\n",
      "+---------+------------+\n",
      "\n"
     ]
    }
   ],
   "source": [
    "Spark.sql(\"SELECT bins,count(bins) as salary_range \\\n",
    "from mounica.bins \\\n",
    "GROUP BY bins \\\n",
    "ORDER BY salary_range DESC\").show()\n"
   ]
  },
  {
   "cell_type": "code",
   "execution_count": 42,
   "metadata": {},
   "outputs": [],
   "source": [
    "import matplotlib.pyplot as plt\n",
    "import pandas as pd"
   ]
  },
  {
   "cell_type": "code",
   "execution_count": 23,
   "metadata": {},
   "outputs": [],
   "source": [
    "salaries = Spark.sql('select * from mounica.salaries')"
   ]
  },
  {
   "cell_type": "code",
   "execution_count": 25,
   "metadata": {},
   "outputs": [],
   "source": [
    "Salary = salaries.toPandas()"
   ]
  },
  {
   "cell_type": "code",
   "execution_count": 34,
   "metadata": {},
   "outputs": [
    {
     "data": {
      "image/png": "[encoded data removed]",
      "text/plain": [
       "<Figure size 720x504 with 1 Axes>"
      ]
     },
     "metadata": {
      "needs_background": "light"
     },
     "output_type": "display_data"
    },
    {
     "data": {
      "text/plain": [
       "<Figure size 720x504 with 0 Axes>"
      ]
     },
     "metadata": {},
     "output_type": "display_data"
    }
   ],
   "source": [
    "plt.rcParams['figure.figsize']=(10,7)\n",
    "plt.hist(Salary['salary'],bins=9,color='xkcd:lavender',alpha=1,edgecolor='black')\n",
    "plt.title('Salary Ranges',fontsize=20,pad=40)\n",
    "plt.xlabel('Salaries',fontsize=16,color='black',labelpad=20)\n",
    "plt.ylabel('Frequency Count',fontsize=16,color='black',labelpad=20)\n",
    "plt.xlim(36000,130000)\n",
    "plt.xticks(fontsize=12)\n",
    "plt.yticks(fontsize=12)\n",
    "plt.show()\n",
    "\n",
    "# Save Figure\n",
    "plt.savefig(\"employee_salary_ranges.png\")\n",
    "\n",
    "# Show plot\n",
    "plt.show()"
   ]
  },
  {
   "cell_type": "markdown",
   "metadata": {},
   "source": [
    "# 9). Bar graph to show Avg salary per title (designation)\n"
   ]
  },
  {
   "cell_type": "code",
   "execution_count": 17,
   "metadata": {},
   "outputs": [],
   "source": [
    "import matplotlib.pyplot as plt\n",
    "import pandas as pd"
   ]
  },
  {
   "cell_type": "code",
   "execution_count": 23,
   "metadata": {},
   "outputs": [],
   "source": [
    "AvergeSal = Spark.sql(\"SELECT t.title, avg(s.salary) as Avg_Salary \\\n",
    "FROM mounica.employeesorg as e \\\n",
    "JOIN mounica.titles t \\\n",
    "ON t.title_id = e.emp_title_id \\\n",
    "JOIN mounica.salaries s \\\n",
    "ON s.emp_no = e.emp_no \\\n",
    "GROUP BY t.title\")"
   ]
  },
  {
   "cell_type": "code",
   "execution_count": 24,
   "metadata": {},
   "outputs": [],
   "source": [
    "AverageSal = AvergeSal.toPandas()"
   ]
  },
  {
   "cell_type": "code",
   "execution_count": 25,
   "metadata": {},
   "outputs": [
    {
     "name": "stdout",
     "output_type": "stream",
     "text": [
      "+------------------+------------------+\n",
      "|             title|        Avg_Salary|\n",
      "+------------------+------------------+\n",
      "|Managerï»¿title_id|51531.041666666664|\n",
      "|             Staff| 58465.38285033152|\n",
      "|Assistant Engineer| 48564.43444730077|\n",
      "|      Senior Staff| 58550.17270435993|\n",
      "|   Senior Engineer| 48506.79987109579|\n",
      "|          Engineer|48535.336511426336|\n",
      "|  Technique Leader| 48582.89609189332|\n",
      "+------------------+------------------+\n",
      "\n"
     ]
    }
   ],
   "source": [
    "AvergeSal.show()"
   ]
  },
  {
   "cell_type": "code",
   "execution_count": 29,
   "metadata": {},
   "outputs": [
    {
     "data": {
      "image/png": "[encoded data removed]",
      "text/plain": [
       "<Figure size 720x504 with 1 Axes>"
      ]
     },
     "metadata": {
      "needs_background": "light"
     },
     "output_type": "display_data"
    }
   ],
   "source": [
    "plt.rcParams['figure.figsize']=(10,7)\n",
    "\n",
    "plt.bar(AverageSal['title'], AverageSal['Avg_Salary'], color = ['lightgreen','pink','yellow','lightblue','lavender','orange','grey'])\n",
    "plt.xlabel(\"Title\")\n",
    "plt.ylabel(\"Average Salary\")\n",
    "plt.title(\"Average Salary per Title\")\n",
    "plt.show()"
   ]
  },
  {
   "cell_type": "markdown",
   "metadata": {},
   "source": [
    "# 10 Calculate employee tenure & show the tenure distribution among the employees\n"
   ]
  },
  {
   "cell_type": "code",
   "execution_count": 6,
   "metadata": {},
   "outputs": [
    {
     "name": "stdout",
     "output_type": "stream",
     "text": [
      "+--------------------+------+------+\n",
      "|        EmployeeName|emp_no|tenure|\n",
      "+--------------------+------+------+\n",
      "|      Stella Dayang |414400|    15|\n",
      "|     Danel Bellmore | 30512|    15|\n",
      "|      Rasiah Smeets |494817|    15|\n",
      "|    Xudong Samarati |461591|    15|\n",
      "|      Conal Wilfing | 41986|    15|\n",
      "|    Feixiong Poujol |427958|    15|\n",
      "|   Jeanna Francisci | 67762|    15|\n",
      "|      Owen Hiraishi | 95280|    15|\n",
      "|       Gladys Randt | 85630|    15|\n",
      "|      Huiqun Rattan |426193|    15|\n",
      "|         Fun Varman | 10571|    15|\n",
      "|   Boriana Maginnis |494351|    15|\n",
      "|Shigehiro Trogemann | 76229|    15|\n",
      "|       Uzi Poehlman |470413|    15|\n",
      "|  Nidapan Braunmuhl |210276|    15|\n",
      "|      Renee Milicia | 13503|    15|\n",
      "|       JoAnne Anido | 86672|    15|\n",
      "|        Xuejun Luiz |418149|    15|\n",
      "|          Van Miara | 33808|    15|\n",
      "|  Honesty Schrooten |209612|    15|\n",
      "+--------------------+------+------+\n",
      "only showing top 20 rows\n",
      "\n"
     ]
    }
   ],
   "source": [
    "Spark.sql('SELECT  CONCAT(first_name,\" \",last_name,\" \") \\\n",
    "AS EmployeeName,emp_no,2000-year(hire_date) as tenure \\\n",
    "FROM mounica.Employees_final \\\n",
    "order by tenure desc').show()"
   ]
  },
  {
   "cell_type": "markdown",
   "metadata": {},
   "source": [
    "# 11 A list to show the emp no and dept name"
   ]
  },
  {
   "cell_type": "code",
   "execution_count": 30,
   "metadata": {},
   "outputs": [
    {
     "name": "stdout",
     "output_type": "stream",
     "text": [
      "+------+------------------+\n",
      "|emp_no|         dept_name|\n",
      "+------+------------------+\n",
      "| 10001|       development|\n",
      "| 10002|             Sales|\n",
      "| 10003|        Production|\n",
      "| 10004|        Production|\n",
      "| 10005|     HumanResource|\n",
      "| 10006|       development|\n",
      "| 10007|          Research|\n",
      "| 10008|       development|\n",
      "| 10009|Quality Management|\n",
      "| 10010|        Production|\n",
      "| 10010|Quality Management|\n",
      "| 10011|  Customer Service|\n",
      "| 10012|       development|\n",
      "| 10013|     HumanResource|\n",
      "| 10014|       development|\n",
      "| 10015|          Research|\n",
      "| 10016|             Sales|\n",
      "| 10017|         Marketing|\n",
      "| 10018|        Production|\n",
      "| 10018|       development|\n",
      "+------+------------------+\n",
      "only showing top 20 rows\n",
      "\n"
     ]
    }
   ],
   "source": [
    "Spark.sql(\"SELECT e.emp_no,d.dept_name \\\n",
    "from mounica.department_employees as e \\\n",
    "JOIN mounica.departments as d \\\n",
    "on e.dept_no = d.dept_no\").show()"
   ]
  },
  {
   "cell_type": "markdown",
   "metadata": {},
   "source": [
    "# 12. A list showing employee firstname,last name and salary"
   ]
  },
  {
   "cell_type": "code",
   "execution_count": 31,
   "metadata": {},
   "outputs": [
    {
     "name": "stdout",
     "output_type": "stream",
     "text": [
      "+----------+----------+------+\n",
      "|first_name| last_name|salary|\n",
      "+----------+----------+------+\n",
      "|  Hideyuki|  Zallocco| 40000|\n",
      "|     Byong| Delgrande| 53422|\n",
      "|     Berry|      Babb| 48973|\n",
      "|     Xiong|  Verhoeff| 40000|\n",
      "|Abdelkader|   Baumann| 40000|\n",
      "|      Eran|  Cusworth| 40000|\n",
      "| Christoph|   Parfitt| 56087|\n",
      "|    Xudong|  Samarati| 40000|\n",
      "|    Lihong| Magliocco| 54816|\n",
      "| Kwangyoen|     Speek| 40000|\n",
      "|   Shuichi|     Tyugu| 40000|\n",
      "|   Abdulah|      Lunn| 50183|\n",
      "|     Perry|     Lorho| 40000|\n",
      "|     Subbu|Bultermann| 87084|\n",
      "|     Bojan|  Zallocco| 40000|\n",
      "|  Bilhanan|  Wuwongse| 48795|\n",
      "|Venkatesan|      Gilg| 63016|\n",
      "|   Naftali|     Dulli| 57715|\n",
      "|     Roddy|    Karnin| 43548|\n",
      "|     Nevio|    Demizu| 80252|\n",
      "+----------+----------+------+\n",
      "only showing top 20 rows\n",
      "\n"
     ]
    }
   ],
   "source": [
    "Spark.sql(\"select e.first_name,e.last_name,s.salary \\\n",
    "from mounica.employeesorg as e \\\n",
    "join mounica.salaries as s \\\n",
    "on e.emp_no = s.emp_no\").show()"
   ]
  },
  {
   "cell_type": "markdown",
   "metadata": {},
   "source": [
    "# --13 A list showing the number of employees working in each department\n"
   ]
  },
  {
   "cell_type": "code",
   "execution_count": 32,
   "metadata": {},
   "outputs": [
    {
     "name": "stdout",
     "output_type": "stream",
     "text": [
      "+-------------------+------------------+\n",
      "|Number_of_employees|         dept_name|\n",
      "+-------------------+------------------+\n",
      "|              52245|             Sales|\n",
      "|              20117|Quality Management|\n",
      "|              17346|           Finance|\n",
      "|              73485|        Production|\n",
      "|              21126|          Research|\n",
      "|              23580|  Customer Service|\n",
      "|              20211|         Marketing|\n",
      "|              85707|       development|\n",
      "|              17786|     HumanResource|\n",
      "+-------------------+------------------+\n",
      "\n"
     ]
    }
   ],
   "source": [
    "Spark.sql(\"select count(d.dept_no) as Number_of_employees, de.dept_name \\\n",
    "from mounica.departments as de \\\n",
    "join mounica.department_employees as d \\\n",
    "on de.dept_no = d.dept_no \\\n",
    "group by de.dept_name\").show()"
   ]
  },
  {
   "cell_type": "markdown",
   "metadata": {},
   "source": [
    "# 14 A list concating first name and last name of employees\n"
   ]
  },
  {
   "cell_type": "code",
   "execution_count": 33,
   "metadata": {},
   "outputs": [],
   "source": [
    "from pyspark.sql.functions import concat"
   ]
  },
  {
   "cell_type": "code",
   "execution_count": 34,
   "metadata": {},
   "outputs": [
    {
     "name": "stdout",
     "output_type": "stream",
     "text": [
      "+-------------------+\n",
      "|       EmployeeName|\n",
      "+-------------------+\n",
      "| Hideyuki Zallocco |\n",
      "|   Byong Delgrande |\n",
      "|        Berry Babb |\n",
      "|    Xiong Verhoeff |\n",
      "|Abdelkader Baumann |\n",
      "|     Eran Cusworth |\n",
      "| Christoph Parfitt |\n",
      "|   Xudong Samarati |\n",
      "|  Lihong Magliocco |\n",
      "|   Kwangyoen Speek |\n",
      "|     Shuichi Tyugu |\n",
      "|      Abdulah Lunn |\n",
      "|       Perry Lorho |\n",
      "|  Subbu Bultermann |\n",
      "|    Bojan Zallocco |\n",
      "| Bilhanan Wuwongse |\n",
      "|   Venkatesan Gilg |\n",
      "|     Naftali Dulli |\n",
      "|      Roddy Karnin |\n",
      "|      Nevio Demizu |\n",
      "+-------------------+\n",
      "only showing top 20 rows\n",
      "\n"
     ]
    }
   ],
   "source": [
    "Spark.sql('SELECT CONCAT(first_name,\" \",last_name,\" \") AS EmployeeName from mounica.employeesorg').show()"
   ]
  },
  {
   "cell_type": "markdown",
   "metadata": {},
   "source": [
    "# 15 A list to show employee name and their designation"
   ]
  },
  {
   "cell_type": "code",
   "execution_count": 36,
   "metadata": {},
   "outputs": [
    {
     "name": "stdout",
     "output_type": "stream",
     "text": [
      "+-------------------+----------------+\n",
      "|       EmployeeName|     Designation|\n",
      "+-------------------+----------------+\n",
      "| Hideyuki Zallocco |           Staff|\n",
      "|   Byong Delgrande |        Engineer|\n",
      "|        Berry Babb |        Engineer|\n",
      "|    Xiong Verhoeff |           Staff|\n",
      "|Abdelkader Baumann | Senior Engineer|\n",
      "|     Eran Cusworth | Senior Engineer|\n",
      "| Christoph Parfitt |           Staff|\n",
      "|   Xudong Samarati |    Senior Staff|\n",
      "|  Lihong Magliocco |        Engineer|\n",
      "|   Kwangyoen Speek |    Senior Staff|\n",
      "|     Shuichi Tyugu |        Engineer|\n",
      "|      Abdulah Lunn | Senior Engineer|\n",
      "|       Perry Lorho | Senior Engineer|\n",
      "|  Subbu Bultermann |           Staff|\n",
      "|    Bojan Zallocco |        Engineer|\n",
      "| Bilhanan Wuwongse |Technique Leader|\n",
      "|   Venkatesan Gilg |           Staff|\n",
      "|     Naftali Dulli |        Engineer|\n",
      "|      Roddy Karnin |Technique Leader|\n",
      "|      Nevio Demizu |    Senior Staff|\n",
      "+-------------------+----------------+\n",
      "only showing top 20 rows\n",
      "\n"
     ]
    }
   ],
   "source": [
    "Spark.sql('SELECT CONCAT(e.first_name,\" \",e.last_name,\" \") AS EmployeeName, t.title as Designation from mounica.employeesorg as e \\\n",
    "join mounica.titles as t \\\n",
    "on e.emp_title_id = t.title_id').show()"
   ]
  },
  {
   "cell_type": "markdown",
   "metadata": {},
   "source": [
    "# 16  what is the highest salary for the employees"
   ]
  },
  {
   "cell_type": "code",
   "execution_count": 37,
   "metadata": {},
   "outputs": [
    {
     "name": "stdout",
     "output_type": "stream",
     "text": [
      "+--------------+\n",
      "|highest_salary|\n",
      "+--------------+\n",
      "|        129492|\n",
      "+--------------+\n",
      "\n"
     ]
    }
   ],
   "source": [
    "Spark.sql(\"select max(salary) as highest_salary from salaries\").show()"
   ]
  },
  {
   "cell_type": "code",
   "execution_count": null,
   "metadata": {},
   "outputs": [],
   "source": []
  }
 ],
 "metadata": {
  "kernelspec": {
   "display_name": "Python 3",
   "language": "python",
   "name": "python3"
  },
  "language_info": {
   "codemirror_mode": {
    "name": "ipython",
    "version": 3
   },
   "file_extension": ".py",
   "mimetype": "text/x-python",
   "name": "python",
   "nbconvert_exporter": "python",
   "pygments_lexer": "ipython3",
   "version": "3.7.6"
  }
 },
 "nbformat": 4,
 "nbformat_minor": 4
}
